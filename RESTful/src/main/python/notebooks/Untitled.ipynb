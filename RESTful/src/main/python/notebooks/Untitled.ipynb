{
 "cells": [
  {
   "cell_type": "code",
   "execution_count": 1,
   "metadata": {},
   "outputs": [
    {
     "name": "stdout",
     "output_type": "stream",
     "text": [
      "/home/mattia/DGA-Test\n"
     ]
    }
   ],
   "source": [
    "from IPython.display import display\n",
    "from fastprogress import master_bar, progress_bar\n",
    "import seaborn as sns\n",
    "import matplotlib.pyplot as plt\n",
    "import os\n",
    "import ntpath\n",
    "from datetime import datetime\n",
    "import numpy as np\n",
    "import statistics \n",
    "import re\n",
    "import math\n",
    "import random\n",
    "import pickle\n",
    "import scipy.stats as scstat            \n",
    "from pandas.plotting import register_matplotlib_converters\n",
    "register_matplotlib_converters()\n",
    "import matplotlib.ticker as ticker\n",
    "import matplotlib.gridspec as gridspec\n",
    "from unidecode import unidecode\n",
    "import datetime\n",
    "import numbers\n",
    "from collections.abc import MutableMapping\n",
    "from fastprogress import master_bar, progress_bar\n",
    "import requests,json,psutil,datetime\n",
    "\n",
    "# If true exports vectorial PDFs instead of JPG.\n",
    "VECTORIAL_FIGURES = False\n",
    "FIG_EXTENSION = \"pdf\" if VECTORIAL_FIGURES else \"jpg\"\n",
    "\n",
    "ROOT_DIR = \"/home/mattia/DGA-Test/\"\n",
    "DATA_DIR = \"/home/mattia/DGA-RESTful/data/\"\n",
    "GRAPHICS_DIR = ROOT_DIR + \"Graphics/\" + FIG_EXTENSION + \"/\"\n",
    "\n",
    "# Change path to root\n",
    "os.chdir(ROOT_DIR)\n",
    "print(os.getcwd())\n",
    "\n",
    "try:\n",
    "    os.makedirs(GRAPHICS_DIR)\n",
    "except FileExistsError:\n",
    "    # directory already exists\n",
    "    pass\n",
    "\n",
    "# Either use pandas or modin, not both\n",
    "import pandas as pd\n",
    "pd.options.display.max_columns = None\n",
    "pd.options.display.max_rows = None\n",
    "\n",
    "# Configure RAY and MODIN\n",
    "#import modin.pandas as mpd\n",
    "\n",
    "def chunks(l, n):\n",
    "    \"\"\"Yield successive n-sized chunks from l.\"\"\"\n",
    "    for i in range(0, len(l), n):\n",
    "        yield l[i:i + n]"
   ]
  }
 ],
 "metadata": {
  "kernelspec": {
   "display_name": "Python 3",
   "language": "python",
   "name": "python3"
  },
  "language_info": {
   "codemirror_mode": {
    "name": "ipython",
    "version": 3
   },
   "file_extension": ".py",
   "mimetype": "text/x-python",
   "name": "python",
   "nbconvert_exporter": "python",
   "pygments_lexer": "ipython3",
   "version": "3.7.4"
  }
 },
 "nbformat": 4,
 "nbformat_minor": 4
}
